{
 "cells": [
  {
   "cell_type": "markdown",
   "source": [
    "#### Задание\n",
    "В данном задании вам нужно будет провести анализ данных проведенного A/B-теста.\n",
    "\n",
    "Данные будут предоставлены в формате csv. Они будут содержать также часть пред экспериментального этапа.\n",
    "\n",
    "Описание эксперимента:\n",
    "Есть мобильное приложение. В этом приложении у пользователей есть возможность покупать игровые предметы за реальные деньги. Чтобы стимулировать пользователей их покупать, приложение периодически предлагает пользователям товары - появляется окошко с рекомендацией купить товар. Отдел машинного обучения предложил улучшение для текущего алгоритма выбора рекомендации. Для проверки улучшений алгоритма был проведен A/B тест. Лог его проведения предоставлен в прикрепленном файле.\n",
    "\n",
    "Метрика: средний доход от пользователя за 1 неделю после первого показа ему рекомендации на 10% (после начала A/B теста время первого показа ищется снова)\n",
    "\n",
    "Важная информация:\n",
    "Эксперимент начинается 2023-05-01. Данные есть до 2023-06-01 (но можно завершить раньше, если это позволит оценка длительности)\n",
    "Вам сказали, что его длительность должна составить 1 месяц.\n",
    "Все покупки, которые вызваны не влиянием рекомендаций, в этом логе не учитываются\n",
    "\n",
    "Описание данных:\n",
    "id_product -  идентификатор продукта, который был рекомендован\n",
    "is_pay - купил ли пользователь товар\n",
    "sum_payment - размер платежа (0, если не купил)\n",
    "city - город, в котором находится пользователь\n",
    "id_user - пользователь\n",
    "timestamp - timestamp события\n",
    "date - дата события\n",
    "\n",
    "Задачи, которые необходимо решить:\n",
    "Оценить длительность теста на момент его начала. Сравнить с предложенной. Для оценки необходимо использовать данные с пред экспериментального периода. Посмотреть, есть ли выбросы в данных.\n",
    "Построить методику расчета целевой метрики. Рассчитать целевую метрику на день окончания теста (рассчитанной в п1) для группы A и B, рассчитать эффект, p_value. Посмотреть, есть ли выбросы в данных.\n",
    "Рассчитать метрики из п2 по дням и построить их графики.\n",
    "Принять решение о результате теста - обосновать.\n",
    "\n",
    "Дополнительно:\n",
    "При подсчете метрик обработать выбросы в данных - описать почему их можно удалить из теста, если они удаляются. Пожалуйста, не заглядывайте в будущее по данным, если рассчитанная длительность меньше предоставленных данных.\n"
   ],
   "metadata": {
    "collapsed": false
   }
  },
  {
   "cell_type": "code",
   "execution_count": 13,
   "outputs": [],
   "source": [
    "import numpy as np\n",
    "import pandas as pd\n",
    "import scipy.stats as sps\n",
    "from datetime import timedelta\n",
    "import plotly.graph_objs as go"
   ],
   "metadata": {
    "collapsed": false,
    "ExecuteTime": {
     "start_time": "2023-06-28T23:54:05.917465Z",
     "end_time": "2023-06-28T23:54:05.930019Z"
    }
   }
  },
  {
   "cell_type": "code",
   "execution_count": 11,
   "outputs": [],
   "source": [
    "data = pd.read_csv(\"/Users/sofia/Downloads/ab_made_4.gzip\")"
   ],
   "metadata": {
    "collapsed": false,
    "ExecuteTime": {
     "start_time": "2023-06-28T23:53:49.162452Z",
     "end_time": "2023-06-28T23:53:49.244712Z"
    }
   }
  },
  {
   "cell_type": "code",
   "execution_count": 14,
   "outputs": [],
   "source": [
    "data['timestamp'] = pd.to_datetime(data['timestamp'], unit='s') + timedelta(hours=3)\n",
    "data['date'] = pd.to_datetime(data['date'], format='%Y-%m-%d')\n",
    "pre_group = data[data['group'].isna()]\n",
    "A = data[data['group'] == 'A']\n",
    "B = data[data['group'] == 'B']"
   ],
   "metadata": {
    "collapsed": false,
    "ExecuteTime": {
     "start_time": "2023-06-28T23:54:09.703352Z",
     "end_time": "2023-06-28T23:54:09.748834Z"
    }
   }
  },
  {
   "cell_type": "code",
   "execution_count": 15,
   "outputs": [],
   "source": [
    "def duration(k, delta_effect, sigma_1, sigma_2, alpha=0.05, beta=0.2):\n",
    "    z = sps.norm.ppf(1 - alpha/2) + sps.norm.ppf(1-beta)\n",
    "    n = (k+1) * z ** 2 * (sigma_1 ** 2 + sigma_2 **2 / k) / (delta_effect ** 2)\n",
    "    return n\n",
    "\n",
    "def metric(data, end):\n",
    "    filtered = data.groupby('id_user').timestamp.min().reset_index(name='min_timestamp')\n",
    "    filtered['max_timestamp'] = filtered['min_timestamp'] + timedelta(days=7)\n",
    "\n",
    "    merged = data.merge(filtered, on='id_user')\n",
    "    merged = merged[(merged['timestamp'] <= merged['max_timestamp']) & (merged['timestamp'] >= merged['min_timestamp'])]\n",
    "    merged = merged[pd.to_datetime(merged['max_timestamp']).dt.normalize() < end]\n",
    "\n",
    "    return merged.groupby('id_user').sum_payment.sum().tolist()\n",
    "\n",
    "def filter_date(data, target_n, start, end):\n",
    "    date = start + timedelta(days=7)\n",
    "\n",
    "    while True:\n",
    "        if date == end:\n",
    "            return date\n",
    "        temp_data = data[data['date'] <= date]\n",
    "\n",
    "        filtered = data.groupby('id_user').timestamp.min().reset_index(name='min_timestamp')\n",
    "        filtered['max_timestamp'] = filtered['min_timestamp'] + timedelta(days=7)\n",
    "        filtered = filtered[pd.to_datetime(filtered['max_timestamp']).dt.normalize() <= date]\n",
    "\n",
    "        if len(np.unique(filtered[\"id_user\"].values)) >= target_n:\n",
    "            return date\n",
    "\n",
    "        date = date + timedelta(days=1)\n",
    "\n",
    "def remove_outliers(data, threshold = 0.001 ):\n",
    "    lower_bound = data[\"sum_payment\"].quantile(q=threshold)\n",
    "    upper_bound = data[\"sum_payment\"].quantile(q=1-threshold)\n",
    "    emission_df = data[(data[\"sum_payment\"] < lower_bound) | (data[\"sum_payment\"] > upper_bound)]\n",
    "\n",
    "    data.loc[data.index.isin(emission_df.index), \"sum_payment\"] = \\\n",
    "        data.loc[data.index.isin(emission_df.index), \"sum_payment\"].apply(lambda x: min(x, upper_bound))\n",
    "\n",
    "    return data\n",
    "\n"
   ],
   "metadata": {
    "collapsed": false,
    "ExecuteTime": {
     "start_time": "2023-06-28T23:54:21.615943Z",
     "end_time": "2023-06-28T23:54:21.692562Z"
    }
   }
  },
  {
   "cell_type": "code",
   "execution_count": 17,
   "outputs": [
    {
     "name": "stdout",
     "output_type": "stream",
     "text": [
      "Target size: 3601\n"
     ]
    },
    {
     "name": "stderr",
     "output_type": "stream",
     "text": [
      "/usr/local/anaconda3/lib/python3.7/site-packages/pandas/core/indexing.py:1773: SettingWithCopyWarning: \n",
      "A value is trying to be set on a copy of a slice from a DataFrame.\n",
      "Try using .loc[row_indexer,col_indexer] = value instead\n",
      "\n",
      "See the caveats in the documentation: https://pandas.pydata.org/pandas-docs/stable/user_guide/indexing.html#returning-a-view-versus-a-copy\n",
      "  self._setitem_single_column(ilocs[0], value, pi)\n"
     ]
    }
   ],
   "source": [
    "start = pd.to_datetime('2023-05-01', format='%Y-%m-%d')\n",
    "end = pd.to_datetime('2023-05-31', format='%Y-%m-%d')\n",
    "\n",
    "pre_group = remove_outliers(pre_group)\n",
    "metric_out = metric(pre_group, start)\n",
    "sigma_1 = sigma_2 = np.std(metric_out)\n",
    "\n",
    "mean_base = np.mean(metric_out)\n",
    "effect = 0.1 * mean_base\n",
    "\n",
    "k = len(np.unique(A['id_user'].values)) / len(np.unique(B['id_user'].values))\n",
    "\n",
    "target_n = int(duration(k, effect, sigma_1, sigma_2)/2)\n",
    "\n",
    "print(f\"Target size: {target_n}\")\n",
    "\n"
   ],
   "metadata": {
    "collapsed": false,
    "ExecuteTime": {
     "start_time": "2023-06-28T23:54:41.724063Z",
     "end_time": "2023-06-28T23:54:41.823912Z"
    }
   }
  },
  {
   "cell_type": "code",
   "execution_count": null,
   "outputs": [],
   "source": [],
   "metadata": {
    "collapsed": false
   }
  }
 ],
 "metadata": {
  "kernelspec": {
   "display_name": "Python 3",
   "language": "python",
   "name": "python3"
  },
  "language_info": {
   "codemirror_mode": {
    "name": "ipython",
    "version": 2
   },
   "file_extension": ".py",
   "mimetype": "text/x-python",
   "name": "python",
   "nbconvert_exporter": "python",
   "pygments_lexer": "ipython2",
   "version": "2.7.6"
  }
 },
 "nbformat": 4,
 "nbformat_minor": 0
}
