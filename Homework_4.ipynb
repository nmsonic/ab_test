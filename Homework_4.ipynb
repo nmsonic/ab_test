{
 "cells": [
  {
   "cell_type": "markdown",
   "source": [
    "#### Задание\n",
    "В данном задании вам нужно будет провести анализ данных проведенного A/B-теста.\n",
    "\n",
    "Данные будут предоставлены в формате csv. Они будут содержать также часть пред экспериментального этапа.\n",
    "\n",
    "Описание эксперимента:\n",
    "Есть мобильное приложение. В этом приложении у пользователей есть возможность покупать игровые предметы за реальные деньги. Чтобы стимулировать пользователей их покупать, приложение периодически предлагает пользователям товары - появляется окошко с рекомендацией купить товар. Отдел машинного обучения предложил улучшение для текущего алгоритма выбора рекомендации. Для проверки улучшений алгоритма был проведен A/B тест. Лог его проведения предоставлен в прикрепленном файле.\n",
    "\n",
    "Метрика: средний доход от пользователя за 1 неделю после первого показа ему рекомендации на 10% (после начала A/B теста время первого показа ищется снова)\n",
    "\n",
    "Важная информация:\n",
    "Эксперимент начинается 2023-05-01. Данные есть до 2023-06-01 (но можно завершить раньше, если это позволит оценка длительности)\n",
    "Вам сказали, что его длительность должна составить 1 месяц.\n",
    "Все покупки, которые вызваны не влиянием рекомендаций, в этом логе не учитываются\n",
    "\n",
    "Описание данных:\n",
    "id_product -  идентификатор продукта, который был рекомендован\n",
    "is_pay - купил ли пользователь товар\n",
    "sum_payment - размер платежа (0, если не купил)\n",
    "city - город, в котором находится пользователь\n",
    "id_user - пользователь\n",
    "timestamp - timestamp события\n",
    "date - дата события\n",
    "\n",
    "Задачи, которые необходимо решить:\n",
    "Оценить длительность теста на момент его начала. Сравнить с предложенной. Для оценки необходимо использовать данные с пред экспериментального периода. Посмотреть, есть ли выбросы в данных.\n",
    "Построить методику расчета целевой метрики. Рассчитать целевую метрику на день окончания теста (рассчитанной в п1) для группы A и B, рассчитать эффект, p_value. Посмотреть, есть ли выбросы в данных.\n",
    "Рассчитать метрики из п2 по дням и построить их графики.\n",
    "Принять решение о результате теста - обосновать.\n",
    "\n",
    "Дополнительно:\n",
    "При подсчете метрик обработать выбросы в данных - описать почему их можно удалить из теста, если они удаляются. Пожалуйста, не заглядывайте в будущее по данным, если рассчитанная длительность меньше предоставленных данных.\n"
   ],
   "metadata": {
    "collapsed": false
   }
  },
  {
   "cell_type": "code",
   "execution_count": 2,
   "outputs": [],
   "source": [
    "import numpy as np\n",
    "import pandas as pd\n",
    "import scipy.stats as sps\n",
    "from datetime import timedelta\n",
    "import matplotlib.pyplot as plt"
   ],
   "metadata": {
    "collapsed": false,
    "ExecuteTime": {
     "start_time": "2023-06-29T07:05:44.180035Z",
     "end_time": "2023-06-29T07:05:46.349656Z"
    }
   }
  },
  {
   "cell_type": "code",
   "execution_count": 3,
   "outputs": [],
   "source": [
    "data = pd.read_csv(\"/Users/sofia/Downloads/ab_made_4.gzip\")"
   ],
   "metadata": {
    "collapsed": false,
    "ExecuteTime": {
     "start_time": "2023-06-29T07:05:46.352073Z",
     "end_time": "2023-06-29T07:05:46.521513Z"
    }
   }
  },
  {
   "cell_type": "code",
   "execution_count": 4,
   "outputs": [
    {
     "data": {
      "text/plain": "        timestamp     id_user  sum_payment group             city  id_product  \\\n0      1680330573   user_9903           27   NaN  Санкт-Петербург         4.0   \n1      1680332652   user_6732            0   NaN           Рязань         1.0   \n2      1680378039   user_4199            0   NaN           Москва         3.0   \n3      1680337580   user_3606           12   NaN  Санкт-Петербург         7.0   \n4      1680334389   user_9519            0   NaN  Санкт-Петербург        14.0   \n...           ...         ...          ...   ...              ...         ...   \n56400  1685485266  user_10740            0     A  Санкт-Петербург        14.0   \n56401  1685481632   user_3589            0     B  Санкт-Петербург         1.0   \n56402  1685514383  user_10664           13     A           Москва        17.0   \n56403  1685481325   user_3537            0     B         Ярославь        19.0   \n56404  1685528033   user_6637            0     B           Москва        19.0   \n\n       is_pay        date  \n0           1  2023-04-01  \n1           0  2023-04-01  \n2           0  2023-04-01  \n3           1  2023-04-01  \n4           0  2023-04-01  \n...       ...         ...  \n56400       0  2023-05-31  \n56401       0  2023-05-31  \n56402       1  2023-05-31  \n56403       0  2023-05-31  \n56404       0  2023-05-31  \n\n[56405 rows x 8 columns]",
      "text/html": "<div>\n<style scoped>\n    .dataframe tbody tr th:only-of-type {\n        vertical-align: middle;\n    }\n\n    .dataframe tbody tr th {\n        vertical-align: top;\n    }\n\n    .dataframe thead th {\n        text-align: right;\n    }\n</style>\n<table border=\"1\" class=\"dataframe\">\n  <thead>\n    <tr style=\"text-align: right;\">\n      <th></th>\n      <th>timestamp</th>\n      <th>id_user</th>\n      <th>sum_payment</th>\n      <th>group</th>\n      <th>city</th>\n      <th>id_product</th>\n      <th>is_pay</th>\n      <th>date</th>\n    </tr>\n  </thead>\n  <tbody>\n    <tr>\n      <th>0</th>\n      <td>1680330573</td>\n      <td>user_9903</td>\n      <td>27</td>\n      <td>NaN</td>\n      <td>Санкт-Петербург</td>\n      <td>4.0</td>\n      <td>1</td>\n      <td>2023-04-01</td>\n    </tr>\n    <tr>\n      <th>1</th>\n      <td>1680332652</td>\n      <td>user_6732</td>\n      <td>0</td>\n      <td>NaN</td>\n      <td>Рязань</td>\n      <td>1.0</td>\n      <td>0</td>\n      <td>2023-04-01</td>\n    </tr>\n    <tr>\n      <th>2</th>\n      <td>1680378039</td>\n      <td>user_4199</td>\n      <td>0</td>\n      <td>NaN</td>\n      <td>Москва</td>\n      <td>3.0</td>\n      <td>0</td>\n      <td>2023-04-01</td>\n    </tr>\n    <tr>\n      <th>3</th>\n      <td>1680337580</td>\n      <td>user_3606</td>\n      <td>12</td>\n      <td>NaN</td>\n      <td>Санкт-Петербург</td>\n      <td>7.0</td>\n      <td>1</td>\n      <td>2023-04-01</td>\n    </tr>\n    <tr>\n      <th>4</th>\n      <td>1680334389</td>\n      <td>user_9519</td>\n      <td>0</td>\n      <td>NaN</td>\n      <td>Санкт-Петербург</td>\n      <td>14.0</td>\n      <td>0</td>\n      <td>2023-04-01</td>\n    </tr>\n    <tr>\n      <th>...</th>\n      <td>...</td>\n      <td>...</td>\n      <td>...</td>\n      <td>...</td>\n      <td>...</td>\n      <td>...</td>\n      <td>...</td>\n      <td>...</td>\n    </tr>\n    <tr>\n      <th>56400</th>\n      <td>1685485266</td>\n      <td>user_10740</td>\n      <td>0</td>\n      <td>A</td>\n      <td>Санкт-Петербург</td>\n      <td>14.0</td>\n      <td>0</td>\n      <td>2023-05-31</td>\n    </tr>\n    <tr>\n      <th>56401</th>\n      <td>1685481632</td>\n      <td>user_3589</td>\n      <td>0</td>\n      <td>B</td>\n      <td>Санкт-Петербург</td>\n      <td>1.0</td>\n      <td>0</td>\n      <td>2023-05-31</td>\n    </tr>\n    <tr>\n      <th>56402</th>\n      <td>1685514383</td>\n      <td>user_10664</td>\n      <td>13</td>\n      <td>A</td>\n      <td>Москва</td>\n      <td>17.0</td>\n      <td>1</td>\n      <td>2023-05-31</td>\n    </tr>\n    <tr>\n      <th>56403</th>\n      <td>1685481325</td>\n      <td>user_3537</td>\n      <td>0</td>\n      <td>B</td>\n      <td>Ярославь</td>\n      <td>19.0</td>\n      <td>0</td>\n      <td>2023-05-31</td>\n    </tr>\n    <tr>\n      <th>56404</th>\n      <td>1685528033</td>\n      <td>user_6637</td>\n      <td>0</td>\n      <td>B</td>\n      <td>Москва</td>\n      <td>19.0</td>\n      <td>0</td>\n      <td>2023-05-31</td>\n    </tr>\n  </tbody>\n</table>\n<p>56405 rows × 8 columns</p>\n</div>"
     },
     "execution_count": 4,
     "metadata": {},
     "output_type": "execute_result"
    }
   ],
   "source": [
    "data"
   ],
   "metadata": {
    "collapsed": false,
    "ExecuteTime": {
     "start_time": "2023-06-29T07:05:46.491652Z",
     "end_time": "2023-06-29T07:05:46.545898Z"
    }
   }
  },
  {
   "cell_type": "code",
   "execution_count": 5,
   "outputs": [],
   "source": [
    "data['timestamp'] = pd.to_datetime(data['timestamp'], unit='s') + timedelta(hours=3)\n",
    "data['date'] = pd.to_datetime(data['date'], format='%Y-%m-%d')"
   ],
   "metadata": {
    "collapsed": false,
    "ExecuteTime": {
     "start_time": "2023-06-29T07:05:46.540041Z",
     "end_time": "2023-06-29T07:05:46.599099Z"
    }
   }
  },
  {
   "cell_type": "code",
   "execution_count": 6,
   "outputs": [
    {
     "name": "stdout",
     "output_type": "stream",
     "text": [
      "Number of records with sum_payment = 0:  40621\n",
      "Number of records with sum_payment != 0:  15784\n"
     ]
    }
   ],
   "source": [
    "print('Number of records with sum_payment = 0: ', len(data[data.sum_payment == 0]))\n",
    "print('Number of records with sum_payment != 0: ', len(data[data.sum_payment != 0]))"
   ],
   "metadata": {
    "collapsed": false,
    "ExecuteTime": {
     "start_time": "2023-06-29T07:05:46.573249Z",
     "end_time": "2023-06-29T07:05:46.785867Z"
    }
   }
  },
  {
   "cell_type": "code",
   "execution_count": 7,
   "outputs": [
    {
     "data": {
      "text/plain": "<Figure size 432x288 with 1 Axes>",
      "image/png": "[encoded data removed]"
     },
     "metadata": {
      "needs_background": "light"
     },
     "output_type": "display_data"
    }
   ],
   "source": [
    "fig, ax = plt.subplots()\n",
    "ax.boxplot(data['sum_payment'])\n",
    "plt.show()"
   ],
   "metadata": {
    "collapsed": false,
    "ExecuteTime": {
     "start_time": "2023-06-29T07:05:46.606689Z",
     "end_time": "2023-06-29T07:05:47.004667Z"
    }
   }
  },
  {
   "cell_type": "markdown",
   "source": [
    "в данных очень много записей с sum_payment = 0, а значит при рассчете квантией будет перекос к этому значению, но выбросы тоже есть, удалим слишком большие суммы платежа"
   ],
   "metadata": {
    "collapsed": false
   }
  },
  {
   "cell_type": "code",
   "execution_count": 8,
   "outputs": [],
   "source": [
    "data = data[data.sum_payment <= data.sum_payment.quantile(q=0.99)]"
   ],
   "metadata": {
    "collapsed": false,
    "ExecuteTime": {
     "start_time": "2023-06-29T07:05:46.876911Z",
     "end_time": "2023-06-29T07:05:47.005081Z"
    }
   }
  },
  {
   "cell_type": "code",
   "execution_count": 9,
   "outputs": [],
   "source": [
    "pre_group = data[data['group'].isna()]\n",
    "group_A = data[data['group'] == 'A']\n",
    "group_B = data[data['group'] == 'B']"
   ],
   "metadata": {
    "collapsed": false,
    "ExecuteTime": {
     "start_time": "2023-06-29T07:05:46.897210Z",
     "end_time": "2023-06-29T07:05:47.005193Z"
    }
   }
  },
  {
   "cell_type": "code",
   "execution_count": 10,
   "outputs": [
    {
     "data": {
      "text/plain": "<Figure size 432x288 with 3 Axes>",
      "image/png": "[encoded data removed]"
     },
     "metadata": {
      "needs_background": "light"
     },
     "output_type": "display_data"
    }
   ],
   "source": [
    "groups = ['pre_group', 'group_A', 'group_B']\n",
    "dfs = [pre_group, group_A, group_B]\n",
    "fig, ax = plt.subplots(1, 3)\n",
    "ax = ax.flat\n",
    "for num, df in enumerate(dfs):\n",
    "    ax[num].boxplot(df[df.sum_payment != 0]['sum_payment'])\n",
    "    ax[num].set_xlabel(groups[num])\n",
    "plt.show()"
   ],
   "metadata": {
    "collapsed": false,
    "ExecuteTime": {
     "start_time": "2023-06-29T07:05:46.942551Z",
     "end_time": "2023-06-29T07:05:47.937787Z"
    }
   }
  },
  {
   "cell_type": "markdown",
   "source": [
    "если посмотреть  на группы без нулевых платежей то выглядит хорошо, не будем удалять что-либо еще"
   ],
   "metadata": {
    "collapsed": false
   }
  },
  {
   "cell_type": "code",
   "execution_count": 11,
   "outputs": [
    {
     "name": "stdout",
     "output_type": "stream",
     "text": [
      "Number of unique users in pre_group: 9968\n",
      "Number of unique users in group_A: 5976\n",
      "Number of unique users in group_B: 5975\n",
      "For group pre_group min date: 2023-04-01 03:40:17 and max date: 2023-04-30 23:59:46\n",
      "For group group_A min date: 2023-05-01 08:48:05 and max date: 2023-05-31 23:59:57\n",
      "For group group_B min date: 2023-05-01 01:43:46 and max date: 2023-05-31 23:58:59\n"
     ]
    }
   ],
   "source": [
    "for df, name in zip(dfs, groups):\n",
    "    print(f'Number of unique users in {name}:', df.id_user.nunique())\n",
    "\n",
    "for df, name in zip(dfs, groups):\n",
    "    print(f'For group {name} min date: {df.timestamp.min()} and max date: {df.timestamp.max()}')\n"
   ],
   "metadata": {
    "collapsed": false,
    "ExecuteTime": {
     "start_time": "2023-06-29T07:05:47.944031Z",
     "end_time": "2023-06-29T07:05:47.974203Z"
    }
   }
  },
  {
   "cell_type": "code",
   "execution_count": 12,
   "outputs": [],
   "source": [
    "def duration(k, delta_effect, sigma_1, sigma_2, alpha=0.05, beta=0.2):\n",
    "    z = sps.norm.ppf(1 - alpha/2) + sps.norm.ppf(1-beta)\n",
    "    n = (k+1) * z ** 2 * (sigma_1 ** 2 + sigma_2 **2 / k) / (delta_effect ** 2)\n",
    "    return n\n",
    "\n",
    "def get_power(p_values, alpha=0.05):\n",
    "    \"\"\"Оценка мощности критерия, при условии, что значения p_value взяты при наличии\n",
    "    различий в сравниваемых выборках\n",
    "    \"\"\"\n",
    "    p_values = np.array(p_values)\n",
    "    return p_values[p_values < alpha].shape[0] / p_values.shape[0] * 100\n",
    "\n",
    "def filter_df_by_week(df):\n",
    "    user_start_window_dt = df.groupby('id_user')['timestamp'].min()\n",
    "    user_end_window_dt = user_start_window_dt + timedelta(weeks=1)\n",
    "    df[df.apply(lambda x: user_start_window_dt[x.id_user] <= x.timestamp <= user_end_window_dt[x.id_user], axis=1)]\n",
    "    return df\n",
    "\n",
    "def calculate_week_payments(df):\n",
    "    df = filter_df_by_week(df)\n",
    "    df_total_sum_grouped = df.groupby('id_user')['sum_payment'].sum().tolist()\n",
    "    return df_total_sum_grouped\n",
    "\n"
   ],
   "metadata": {
    "collapsed": false,
    "ExecuteTime": {
     "start_time": "2023-06-29T07:05:47.978408Z",
     "end_time": "2023-06-29T07:05:48.010493Z"
    }
   }
  },
  {
   "cell_type": "code",
   "execution_count": 13,
   "outputs": [
    {
     "name": "stdout",
     "output_type": "stream",
     "text": [
      "Оценка длительности: 3262\n"
     ]
    }
   ],
   "source": [
    "alpha = 0.05\n",
    "power = 0.8\n",
    "beta = 1 - power\n",
    "effect = 10\n",
    "k = 1\n",
    "week_paymants_pre_group = calculate_week_payments(pre_group)\n",
    "sigma = np.std(week_paymants_pre_group)\n",
    "mu = np.mean(week_paymants_pre_group)\n",
    "effect = mu * effect / 100\n",
    "duration_ = int(duration(k, effect, sigma, sigma, alpha, beta))\n",
    "duration_group = duration_ // 2\n",
    "print(f\"Оценка длительности: {duration_group}\")"
   ],
   "metadata": {
    "collapsed": false,
    "ExecuteTime": {
     "start_time": "2023-06-29T07:05:47.995074Z",
     "end_time": "2023-06-29T07:05:50.452478Z"
    }
   }
  },
  {
   "cell_type": "code",
   "execution_count": 14,
   "outputs": [],
   "source": [
    "def ab_test(df_a, df_b):\n",
    "    start_date = max(df_a.timestamp.min(), df_b.timestamp.min()).date() + timedelta(weeks=1)\n",
    "    end_date = min(df_a.timestamp.max(), df_b.timestamp.max()).date()\n",
    "\n",
    "    dates_range = pd.date_range(start_date, end_date)\n",
    "    data = []\n",
    "\n",
    "    for date in dates_range:\n",
    "        date_lim = date - timedelta(weeks=1)\n",
    "        df_a_slice = df_a[(date >= df_a.timestamp) & (df_a.timestamp > date_lim)]\n",
    "        df_b_slice = df_b[(date >= df_b.timestamp) & (df_b.timestamp > date_lim)]\n",
    "\n",
    "        week_payments_a = calculate_week_payments(df_a_slice)\n",
    "        week_payments_b = calculate_week_payments(df_b_slice)\n",
    "\n",
    "        mean_week_payment_a = np.mean(week_payments_a)\n",
    "        mean_week_payment_b = np.mean(week_payments_b)\n",
    "\n",
    "        mean_week_payments_effect = mean_week_payment_b - mean_week_payment_a\n",
    "\n",
    "        ttest = sps.ttest_ind(week_payments_a, week_payments_b)\n",
    "        statistic, p_value = ttest.statistic, ttest.pvalue\n",
    "\n",
    "        data.append({'date': date.date(),\n",
    "                     'mean_week_payment_a': mean_week_payment_a,\n",
    "                     'mean_week_payment_b': mean_week_payment_b,\n",
    "                     'mean_week_payments_effect':mean_week_payments_effect,\n",
    "                     't-statistic': statistic,\n",
    "                     'p-value': p_value})\n",
    "\n",
    "    result = pd.DataFrame(data)\n",
    "\n",
    "    return result\n"
   ],
   "metadata": {
    "collapsed": false,
    "ExecuteTime": {
     "start_time": "2023-06-29T07:05:50.459183Z",
     "end_time": "2023-06-29T07:05:50.464508Z"
    }
   }
  },
  {
   "cell_type": "code",
   "execution_count": 15,
   "outputs": [
    {
     "data": {
      "text/plain": "          date  mean_week_payment_a  mean_week_payment_b  \\\n0   2023-05-08             7.133333             8.369697   \n1   2023-05-09             6.837104             8.753488   \n2   2023-05-10             7.235185             8.673664   \n3   2023-05-11             7.447077             8.898714   \n4   2023-05-12             7.292943             8.667582   \n5   2023-05-13             7.105386             8.585542   \n6   2023-05-14             7.361345             8.419558   \n7   2023-05-15             7.403575             8.194471   \n8   2023-05-16             7.457759             8.249150   \n9   2023-05-17             7.695827             8.239403   \n10  2023-05-18             7.527154             8.449785   \n11  2023-05-19             7.778075             8.664694   \n12  2023-05-20             8.080049             9.148215   \n13  2023-05-21             8.093267             9.351154   \n14  2023-05-22             8.246325             9.557722   \n15  2023-05-23             8.527008             9.660244   \n16  2023-05-24             8.518088             9.938509   \n17  2023-05-25             8.671503            10.077896   \n18  2023-05-26             8.804046            10.266465   \n19  2023-05-27             8.898022            10.080240   \n20  2023-05-28             9.151525            10.210316   \n21  2023-05-29             9.647467            10.456690   \n22  2023-05-30             9.810841            10.606087   \n23  2023-05-31            10.393096            11.147324   \n\n    mean_week_payments_effect  t-statistic   p-value  \n0                    1.236364    -1.285473  0.199079  \n1                    1.916384    -2.234175  0.025725  \n2                    1.438479    -1.838376  0.066286  \n3                    1.451636    -1.936675  0.053010  \n4                    1.374640    -2.009153  0.044703  \n5                    1.480156    -2.353328  0.018721  \n6                    1.058214    -1.807171  0.070894  \n7                    0.790896    -1.407860  0.159320  \n8                    0.791391    -1.517484  0.129280  \n9                    0.543577    -1.056561  0.290813  \n10                   0.922631    -1.859161  0.063110  \n11                   0.886619    -1.824905  0.068114  \n12                   1.068167    -2.279554  0.022698  \n13                   1.257887    -2.794937  0.005219  \n14                   1.311397    -2.978526  0.002914  \n15                   1.133236    -2.637236  0.008389  \n16                   1.420421    -3.378224  0.000736  \n17                   1.406392    -3.426766  0.000616  \n18                   1.462418    -3.612537  0.000306  \n19                   1.182219    -3.022880  0.002515  \n20                   1.058791    -2.749747  0.005982  \n21                   0.809224    -2.102272  0.035568  \n22                   0.795246    -2.115772  0.034399  \n23                   0.754227    -2.011235  0.044336  ",
      "text/html": "<div>\n<style scoped>\n    .dataframe tbody tr th:only-of-type {\n        vertical-align: middle;\n    }\n\n    .dataframe tbody tr th {\n        vertical-align: top;\n    }\n\n    .dataframe thead th {\n        text-align: right;\n    }\n</style>\n<table border=\"1\" class=\"dataframe\">\n  <thead>\n    <tr style=\"text-align: right;\">\n      <th></th>\n      <th>date</th>\n      <th>mean_week_payment_a</th>\n      <th>mean_week_payment_b</th>\n      <th>mean_week_payments_effect</th>\n      <th>t-statistic</th>\n      <th>p-value</th>\n    </tr>\n  </thead>\n  <tbody>\n    <tr>\n      <th>0</th>\n      <td>2023-05-08</td>\n      <td>7.133333</td>\n      <td>8.369697</td>\n      <td>1.236364</td>\n      <td>-1.285473</td>\n      <td>0.199079</td>\n    </tr>\n    <tr>\n      <th>1</th>\n      <td>2023-05-09</td>\n      <td>6.837104</td>\n      <td>8.753488</td>\n      <td>1.916384</td>\n      <td>-2.234175</td>\n      <td>0.025725</td>\n    </tr>\n    <tr>\n      <th>2</th>\n      <td>2023-05-10</td>\n      <td>7.235185</td>\n      <td>8.673664</td>\n      <td>1.438479</td>\n      <td>-1.838376</td>\n      <td>0.066286</td>\n    </tr>\n    <tr>\n      <th>3</th>\n      <td>2023-05-11</td>\n      <td>7.447077</td>\n      <td>8.898714</td>\n      <td>1.451636</td>\n      <td>-1.936675</td>\n      <td>0.053010</td>\n    </tr>\n    <tr>\n      <th>4</th>\n      <td>2023-05-12</td>\n      <td>7.292943</td>\n      <td>8.667582</td>\n      <td>1.374640</td>\n      <td>-2.009153</td>\n      <td>0.044703</td>\n    </tr>\n    <tr>\n      <th>5</th>\n      <td>2023-05-13</td>\n      <td>7.105386</td>\n      <td>8.585542</td>\n      <td>1.480156</td>\n      <td>-2.353328</td>\n      <td>0.018721</td>\n    </tr>\n    <tr>\n      <th>6</th>\n      <td>2023-05-14</td>\n      <td>7.361345</td>\n      <td>8.419558</td>\n      <td>1.058214</td>\n      <td>-1.807171</td>\n      <td>0.070894</td>\n    </tr>\n    <tr>\n      <th>7</th>\n      <td>2023-05-15</td>\n      <td>7.403575</td>\n      <td>8.194471</td>\n      <td>0.790896</td>\n      <td>-1.407860</td>\n      <td>0.159320</td>\n    </tr>\n    <tr>\n      <th>8</th>\n      <td>2023-05-16</td>\n      <td>7.457759</td>\n      <td>8.249150</td>\n      <td>0.791391</td>\n      <td>-1.517484</td>\n      <td>0.129280</td>\n    </tr>\n    <tr>\n      <th>9</th>\n      <td>2023-05-17</td>\n      <td>7.695827</td>\n      <td>8.239403</td>\n      <td>0.543577</td>\n      <td>-1.056561</td>\n      <td>0.290813</td>\n    </tr>\n    <tr>\n      <th>10</th>\n      <td>2023-05-18</td>\n      <td>7.527154</td>\n      <td>8.449785</td>\n      <td>0.922631</td>\n      <td>-1.859161</td>\n      <td>0.063110</td>\n    </tr>\n    <tr>\n      <th>11</th>\n      <td>2023-05-19</td>\n      <td>7.778075</td>\n      <td>8.664694</td>\n      <td>0.886619</td>\n      <td>-1.824905</td>\n      <td>0.068114</td>\n    </tr>\n    <tr>\n      <th>12</th>\n      <td>2023-05-20</td>\n      <td>8.080049</td>\n      <td>9.148215</td>\n      <td>1.068167</td>\n      <td>-2.279554</td>\n      <td>0.022698</td>\n    </tr>\n    <tr>\n      <th>13</th>\n      <td>2023-05-21</td>\n      <td>8.093267</td>\n      <td>9.351154</td>\n      <td>1.257887</td>\n      <td>-2.794937</td>\n      <td>0.005219</td>\n    </tr>\n    <tr>\n      <th>14</th>\n      <td>2023-05-22</td>\n      <td>8.246325</td>\n      <td>9.557722</td>\n      <td>1.311397</td>\n      <td>-2.978526</td>\n      <td>0.002914</td>\n    </tr>\n    <tr>\n      <th>15</th>\n      <td>2023-05-23</td>\n      <td>8.527008</td>\n      <td>9.660244</td>\n      <td>1.133236</td>\n      <td>-2.637236</td>\n      <td>0.008389</td>\n    </tr>\n    <tr>\n      <th>16</th>\n      <td>2023-05-24</td>\n      <td>8.518088</td>\n      <td>9.938509</td>\n      <td>1.420421</td>\n      <td>-3.378224</td>\n      <td>0.000736</td>\n    </tr>\n    <tr>\n      <th>17</th>\n      <td>2023-05-25</td>\n      <td>8.671503</td>\n      <td>10.077896</td>\n      <td>1.406392</td>\n      <td>-3.426766</td>\n      <td>0.000616</td>\n    </tr>\n    <tr>\n      <th>18</th>\n      <td>2023-05-26</td>\n      <td>8.804046</td>\n      <td>10.266465</td>\n      <td>1.462418</td>\n      <td>-3.612537</td>\n      <td>0.000306</td>\n    </tr>\n    <tr>\n      <th>19</th>\n      <td>2023-05-27</td>\n      <td>8.898022</td>\n      <td>10.080240</td>\n      <td>1.182219</td>\n      <td>-3.022880</td>\n      <td>0.002515</td>\n    </tr>\n    <tr>\n      <th>20</th>\n      <td>2023-05-28</td>\n      <td>9.151525</td>\n      <td>10.210316</td>\n      <td>1.058791</td>\n      <td>-2.749747</td>\n      <td>0.005982</td>\n    </tr>\n    <tr>\n      <th>21</th>\n      <td>2023-05-29</td>\n      <td>9.647467</td>\n      <td>10.456690</td>\n      <td>0.809224</td>\n      <td>-2.102272</td>\n      <td>0.035568</td>\n    </tr>\n    <tr>\n      <th>22</th>\n      <td>2023-05-30</td>\n      <td>9.810841</td>\n      <td>10.606087</td>\n      <td>0.795246</td>\n      <td>-2.115772</td>\n      <td>0.034399</td>\n    </tr>\n    <tr>\n      <th>23</th>\n      <td>2023-05-31</td>\n      <td>10.393096</td>\n      <td>11.147324</td>\n      <td>0.754227</td>\n      <td>-2.011235</td>\n      <td>0.044336</td>\n    </tr>\n  </tbody>\n</table>\n</div>"
     },
     "execution_count": 15,
     "metadata": {},
     "output_type": "execute_result"
    }
   ],
   "source": [
    "payments = ab_test(group_A, group_B)\n",
    "payments"
   ],
   "metadata": {
    "collapsed": false,
    "ExecuteTime": {
     "start_time": "2023-06-29T07:05:50.466543Z",
     "end_time": "2023-06-29T07:06:05.234124Z"
    }
   }
  },
  {
   "cell_type": "code",
   "execution_count": 16,
   "outputs": [
    {
     "data": {
      "text/plain": "<Figure size 432x288 with 1 Axes>",
      "image/png": "[encoded data removed]"
     },
     "metadata": {
      "needs_background": "light"
     },
     "output_type": "display_data"
    }
   ],
   "source": [
    "fig, ax = plt.subplots()\n",
    "ax.plot(payments.date.values, payments['p-value'].values)\n",
    "fig.autofmt_xdate()\n",
    "plt.tight_layout()\n",
    "plt.show()"
   ],
   "metadata": {
    "collapsed": false,
    "ExecuteTime": {
     "start_time": "2023-06-29T07:06:05.232686Z",
     "end_time": "2023-06-29T07:06:05.617723Z"
    }
   }
  },
  {
   "cell_type": "code",
   "execution_count": 17,
   "outputs": [
    {
     "name": "stdout",
     "output_type": "stream",
     "text": [
      "Гипотеза о том, что решение с рекомендациями для группы В эффективнее принимается\n"
     ]
    }
   ],
   "source": [
    "print('Гипотеза о том, что решение с рекомендациями для группы В эффективнее', 'принимается' if payments.tail(1)['p-value'].values[0] <= 0.05 else 'отвергается')"
   ],
   "metadata": {
    "collapsed": false,
    "ExecuteTime": {
     "start_time": "2023-06-29T07:06:05.619679Z",
     "end_time": "2023-06-29T07:06:05.631352Z"
    }
   }
  }
 ],
 "metadata": {
  "kernelspec": {
   "display_name": "Python 3",
   "language": "python",
   "name": "python3"
  },
  "language_info": {
   "codemirror_mode": {
    "name": "ipython",
    "version": 2
   },
   "file_extension": ".py",
   "mimetype": "text/x-python",
   "name": "python",
   "nbconvert_exporter": "python",
   "pygments_lexer": "ipython2",
   "version": "2.7.6"
  }
 },
 "nbformat": 4,
 "nbformat_minor": 0
}
